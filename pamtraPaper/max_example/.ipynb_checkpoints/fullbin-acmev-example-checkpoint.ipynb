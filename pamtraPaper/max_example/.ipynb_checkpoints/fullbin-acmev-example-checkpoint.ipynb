{
 "cells": [
  {
   "cell_type": "markdown",
   "metadata": {},
   "source": [
    "# PAMTRA full-bin interface example with ACME-V data\n",
    "\n",
    "Here, we show how PAMTRA can be be used with measured, binned particle size distributions. This is not only applicable to in situ measurements, but also to atmospheric models with full bin microphysics. "
   ]
  },
  {
   "cell_type": "markdown",
   "metadata": {},
   "source": [
    "Start with importing the required libraries and setting up the Notebook to show plots inline."
   ]
  },
  {
   "cell_type": "code",
   "execution_count": 1,
   "metadata": {},
   "outputs": [],
   "source": [
    "import numpy as np\n",
    "import matplotlib.pyplot as plt\n",
    "import xarray as xr\n",
    "\n",
    "import pyPamtra\n",
    "\n",
    "%matplotlib inline"
   ]
  },
  {
   "cell_type": "markdown",
   "metadata": {},
   "source": [
    "Open the ACME-V data set. To keep file size small, the file contains only observations of a single cloud. See Maahn et al. (2017, https://doi.org/10.5194/acp-17-14709-2017) for details of the processing. "
   ]
  },
  {
   "cell_type": "code",
   "execution_count": 2,
   "metadata": {},
   "outputs": [],
   "source": [
    "acmeV = xr.open_dataset('acmev_dataset_for_pamtra.nc')"
   ]
  },
  {
   "cell_type": "markdown",
   "metadata": {},
   "source": [
    "Extract the drop size distribution (DSD) from the netCDF file. The largest size bin of the in situ probes is actually larger than rain drop sizes (8 mm). To avoid PAMTRA stopping with an error, we cut off the 8 largest size bins. "
   ]
  },
  {
   "cell_type": "code",
   "execution_count": 3,
   "metadata": {},
   "outputs": [],
   "source": [
    "iMax = 8\n",
    "dsd = np.ma.masked_invalid(\n",
    "    acmeV.mergedIL_specConc_phase_10s.values[:, :-iMax, 0]).filled(0)\n",
    "nBins = np.shape(dsd)[1]"
   ]
  },
  {
   "cell_type": "markdown",
   "metadata": {},
   "source": [
    "Also, we save the average and bounding diameter of each size bin"
   ]
  },
  {
   "cell_type": "code",
   "execution_count": 4,
   "metadata": {},
   "outputs": [],
   "source": [
    "Dbound = acmeV.mergedIL_Dbound.values[:-iMax]\n",
    "Dmean = acmeV.mergedIL_Dmean.values[:-iMax]"
   ]
  },
  {
   "cell_type": "markdown",
   "metadata": {},
   "source": [
    "Next, we create an empty pyPamtra object"
   ]
  },
  {
   "cell_type": "code",
   "execution_count": 5,
   "metadata": {},
   "outputs": [],
   "source": [
    "pam = pyPamtra.pyPamtra()"
   ]
  },
  {
   "cell_type": "markdown",
   "metadata": {},
   "source": [
    "Even though we use the full-bin interface, we need to add a standard hydrometeor description to create the required data structures. For consistency, the same data fields are required as for the regular PAMTRA hydrometeor interface. However, many parameters are not relevant when using the full-bin interface. "
   ]
  },
  {
   "cell_type": "code",
   "execution_count": 6,
   "metadata": {},
   "outputs": [],
   "source": [
    "pam.df.addHydrometeor((\n",
    "    \"liquid\",  # name \n",
    "    -99.,  # aspect ratio (NOT RELEVANT)\n",
    "    1,  # liquid - ice flag\n",
    "    -99.,  # density (NOT RELEVANT)\n",
    "    -99.,  # mass size relation prefactor a (NOT RELEVANT)\n",
    "    -99.,  # mass size relation exponent b (NOT RELEVANT)\n",
    "    -99.,  # area size relation prefactor alpha (NOT RELEVANT)\n",
    "    -99.,  # area size relation exponent beta (NOT RELEVANT)\n",
    "    0,  # moment provided later (NOT RELEVANT)\n",
    "    nBins,  # number of bins\n",
    "    \"fullBin\",  # distribution name (NOT RELEVANT)\n",
    "    -99.,  # distribution parameter 1 (NOT RELEVANT)\n",
    "    -99.,  # distribution parameter 2 (NOT RELEVANT)\n",
    "    -99.,  # distribution parameter 3 (NOT RELEVANT)\n",
    "    -99.,  # distribution parameter 4 (NOT RELEVANT)\n",
    "    -99.,  # minimum diameter (NOT RELEVANT)\n",
    "    -99.,  # maximum diameter (NOT RELEVANT)\n",
    "    'mie-sphere',  # scattering model\n",
    "    'khvorostyanov01_drops',  # fall velocity relation\n",
    "    0.0  # canting angle\n",
    "))"
   ]
  },
  {
   "cell_type": "markdown",
   "metadata": {},
   "source": [
    "Next, we add an an atmospheric profile to PAMTRA. For this example, we use an US standard profile for simplicity. The `pyPamtra.importer.createUsStandardProfile` helper routine requires only height levels as an input. The height dimension of level properties is one longer than for layer properties such as hydrometeor properties. Therefore, we need to add one more height level to the ACME-V data set. Here, we simply add a height value to the vector. For comparison with e.g. a ground-based radar, the height levels should be derived from the height layers through interpolation. "
   ]
  },
  {
   "cell_type": "code",
   "execution_count": 7,
   "metadata": {},
   "outputs": [
    {
     "name": "stderr",
     "output_type": "stream",
     "text": [
      "/home/dori/lib/python/pyPamtra/core.py:799: Warning: timestamp set to now\n",
      "  warnings.warn(\"timestamp set to now\", Warning)\n",
      "/home/dori/lib/python/pyPamtra/core.py:816: Warning: lat set to 50.938056\n",
      "  warnings.warn(\"%s set to %s\"%(environment,preset,), Warning)\n",
      "/home/dori/lib/python/pyPamtra/core.py:816: Warning: lon set to 6.956944\n",
      "  warnings.warn(\"%s set to %s\"%(environment,preset,), Warning)\n",
      "/home/dori/lib/python/pyPamtra/core.py:816: Warning: wind10u set to 0\n",
      "  warnings.warn(\"%s set to %s\"%(environment,preset,), Warning)\n",
      "/home/dori/lib/python/pyPamtra/core.py:816: Warning: wind10v set to 0\n",
      "  warnings.warn(\"%s set to %s\"%(environment,preset,), Warning)\n",
      "/home/dori/lib/python/pyPamtra/core.py:816: Warning: groundtemp set to nan\n",
      "  warnings.warn(\"%s set to %s\"%(environment,preset,), Warning)\n",
      "/home/dori/lib/python/pyPamtra/core.py:816: Warning: sfc_salinity set to 33.0\n",
      "  warnings.warn(\"%s set to %s\"%(environment,preset,), Warning)\n",
      "/home/dori/lib/python/pyPamtra/core.py:816: Warning: sfc_slf set to 1.0\n",
      "  warnings.warn(\"%s set to %s\"%(environment,preset,), Warning)\n",
      "/home/dori/lib/python/pyPamtra/core.py:816: Warning: sfc_sif set to 0.0\n",
      "  warnings.warn(\"%s set to %s\"%(environment,preset,), Warning)\n",
      "/home/dori/lib/python/pyPamtra/core.py:826: Warning: sfc_type set to -9999\n",
      "  warnings.warn(\"%s set to %s\"%(environment,preset,), Warning)\n",
      "/home/dori/lib/python/pyPamtra/core.py:826: Warning: sfc_model set to -9999\n",
      "  warnings.warn(\"%s set to %s\"%(environment,preset,), Warning)\n",
      "/home/dori/lib/python/pyPamtra/core.py:837: Warning: sfc_refl set to S\n",
      "  warnings.warn(\"%s set to %s\"%(environment,preset,), Warning)\n",
      "/home/dori/lib/python/pyPamtra/core.py:849: Warning: obs_height set to [833000.0, 0.0]\n",
      "  warnings.warn(\"%s set to %s\"%(environment,preset,), Warning)\n",
      "/home/dori/lib/python/pyPamtra/core.py:859: Warning: hydro_q set to 0\n",
      "  warnings.warn(qValue + \" set to 0\", Warning)\n",
      "/home/dori/lib/python/pyPamtra/core.py:859: Warning: hydro_reff set to 0\n",
      "  warnings.warn(qValue + \" set to 0\", Warning)\n",
      "/home/dori/lib/python/pyPamtra/core.py:859: Warning: hydro_n set to 0\n",
      "  warnings.warn(qValue + \" set to 0\", Warning)\n",
      "/home/dori/lib/python/pyPamtra/core.py:870: Warning: airturb set to nan\n",
      "  warnings.warn(qValue + \" set to nan\", Warning)\n",
      "/home/dori/lib/python/pyPamtra/core.py:870: Warning: wind_w set to nan\n",
      "  warnings.warn(qValue + \" set to nan\", Warning)\n",
      "/home/dori/lib/python/pyPamtra/core.py:870: Warning: wind_uv set to nan\n",
      "  warnings.warn(qValue + \" set to nan\", Warning)\n",
      "/home/dori/lib/python/pyPamtra/core.py:870: Warning: turb_edr set to nan\n",
      "  warnings.warn(qValue + \" set to nan\", Warning)\n"
     ]
    }
   ],
   "source": [
    "pam = pyPamtra.importer.createUsStandardProfile(\n",
    "    pam, \n",
    "    hgt_lev=list(acmeV['GPS_MSL_Alt'].values) + [1067]\n",
    ")"
   ]
  },
  {
   "cell_type": "markdown",
   "metadata": {},
   "source": [
    "Note that parameters not provided will be guessed, please make sure to look at the warning messages carefully. Now, the `pam.p` dictionary is created"
   ]
  },
  {
   "cell_type": "code",
   "execution_count": 8,
   "metadata": {},
   "outputs": [
    {
     "data": {
      "text/plain": [
       "['airturb',\n",
       " 'groundtemp',\n",
       " 'hgt',\n",
       " 'hgt_lev',\n",
       " 'hydro_n',\n",
       " 'hydro_q',\n",
       " 'hydro_reff',\n",
       " 'lat',\n",
       " 'lon',\n",
       " 'max_nlyrs',\n",
       " 'model_i',\n",
       " 'model_j',\n",
       " 'ngridx',\n",
       " 'ngridy',\n",
       " 'nlyrs',\n",
       " 'noutlevels',\n",
       " 'obs_height',\n",
       " 'press_lev',\n",
       " 'radar_prop',\n",
       " 'relhum_lev',\n",
       " 'sfc_model',\n",
       " 'sfc_refl',\n",
       " 'sfc_salinity',\n",
       " 'sfc_sif',\n",
       " 'sfc_slf',\n",
       " 'sfc_type',\n",
       " 'temp_lev',\n",
       " 'turb_edr',\n",
       " 'unixtime',\n",
       " 'wind10u',\n",
       " 'wind10v',\n",
       " 'wind_uv',\n",
       " 'wind_w']"
      ]
     },
     "execution_count": 8,
     "metadata": {},
     "output_type": "execute_result"
    }
   ],
   "source": [
    "sorted(pam.p.keys())"
   ]
  },
  {
   "cell_type": "markdown",
   "metadata": {},
   "source": [
    "The temperature and pressure fields have been populated with US standard atmosphere values in K and Pa, respectively. Note that all input quantities in PAMTRA except frequency (GHz) are in SI units. Refer to `pam.units` for details."
   ]
  },
  {
   "cell_type": "code",
   "execution_count": 9,
   "metadata": {},
   "outputs": [
    {
     "data": {
      "text/plain": [
       "(array([[[283, 283, 283, 283, 283, 283, 283, 283, 283, 283, 283, 283, 283,\n",
       "          283, 283, 283, 282, 282, 282, 282, 282, 282, 282, 282, 282, 282,\n",
       "          282, 282, 282, 282, 282, 282, 282, 282, 282, 282, 282, 282, 282,\n",
       "          282, 282, 282, 282, 282, 282, 282, 282, 282, 282, 282, 282, 282,\n",
       "          282, 282, 282, 282, 282, 282, 282, 282, 282, 282, 282, 282, 282,\n",
       "          282, 282, 282, 282, 282, 282, 282, 282, 282, 282, 281, 281, 281,\n",
       "          281, 281, 281, 281, 281, 281, 281, 281, 281, 281, 281, 281, 281,\n",
       "          281, 281, 281, 281, 281, 281, 281, 281, 281, 281, 281, 281, 281,\n",
       "          281, 281, 281, 281, 281, 281]]]),\n",
       " array([[[93037, 92981, 92914, 92835, 92779, 92712, 92634, 92578, 92522,\n",
       "          92489, 92444, 92377, 92333, 92288, 92244, 92199, 92155, 92099,\n",
       "          92044, 91977, 91922, 91866, 91822, 91777, 91733, 91711, 91700,\n",
       "          91689, 91700, 91689, 91667, 91622, 91589, 91545, 91501, 91456,\n",
       "          91434, 91412, 91390, 91379, 91357, 91346, 91313, 91291, 91291,\n",
       "          91280, 91280, 91280, 91269, 91269, 91269, 91269, 91269, 91269,\n",
       "          91258, 91269, 91280, 91280, 91280, 91269, 91246, 91202, 91147,\n",
       "          91092, 91037, 90971, 90916, 90850, 90806, 90740, 90685, 90630,\n",
       "          90586, 90532, 90488, 90444, 90400, 90345, 90280, 90236, 90181,\n",
       "          90127, 90072, 90007, 89963, 89919, 89876, 89832, 89789, 89734,\n",
       "          89680, 89615, 89560, 89517, 89484, 89452, 89430, 89397, 89376,\n",
       "          89343, 89321, 89311, 89300, 89278, 89256, 89235, 89213, 89191,\n",
       "          89159, 89148]]]))"
      ]
     },
     "execution_count": 9,
     "metadata": {},
     "output_type": "execute_result"
    }
   ],
   "source": [
    "pam.p['temp_lev'], pam.p['press_lev']"
   ]
  },
  {
   "cell_type": "markdown",
   "metadata": {},
   "source": [
    "To model turbulence properly, we need to define the horizontal wind speed and the eddy dissipation rate (see Maahn et al. 2015, https://doi.org/10.1175/JTECH-D-14-00112.1 for details). For simplicity, we choose fixed values for this example"
   ]
  },
  {
   "cell_type": "code",
   "execution_count": 10,
   "metadata": {},
   "outputs": [],
   "source": [
    "pam.p['wind_uv'][:] = 10\n",
    "pam.p['turb_edr'][:] = 1e-4"
   ]
  },
  {
   "cell_type": "markdown",
   "metadata": {},
   "source": [
    "Note that there is no need to specify a hydrometeor moment due to the use of the full-bin interface "
   ]
  },
  {
   "cell_type": "code",
   "execution_count": 11,
   "metadata": {},
   "outputs": [],
   "source": [
    "# pam.p[\"hydro_q\"][:] = 0.001"
   ]
  },
  {
   "cell_type": "markdown",
   "metadata": {},
   "source": [
    "We set some non-default settings, see the documentation (https://pamtra.readthedocs.io/en/latest/settings.html) for details. Note the `pam.nmlSet[\"hydro_fullspec\"] = True` which tells the Python Fortran kernel to use the provided distributions instead of the parameters of the hydrometeor description."
   ]
  },
  {
   "cell_type": "code",
   "execution_count": 12,
   "metadata": {},
   "outputs": [],
   "source": [
    "pam.nmlSet[\"passive\"] = False\n",
    "pam.nmlSet[\"randomseed\"] = 0\n",
    "pam.nmlSet[\"radar_mode\"] = \"spectrum\"\n",
    "pam.nmlSet[\"radar_aliasing_nyquist_interv\"] = 3\n",
    "pam.nmlSet[\"hydro_adaptive_grid\"] = False\n",
    "pam.nmlSet[\"conserve_mass_rescale_dsd\"] = False\n",
    "pam.nmlSet[\"radar_use_hildebrand\"] = True\n",
    "pam.nmlSet[\"radar_noise_distance_factor\"] = -2\n",
    "pam.nmlSet[\"hydro_fullspec\"] = True"
   ]
  },
  {
   "cell_type": "markdown",
   "metadata": {},
   "source": [
    "For debugging, verbosity of the Fortran and Python code can be increased. Note that due to technical limitations (https://github.com/ipython/ipykernel/issues/110) the output of the Fortran kernel does not show up in Jupyter. For debugging the Fortran kernel, you can start `iPython` in a terminal and run this script with `%run fullbin-acmev-example.ipynb` to see the debugging output."
   ]
  },
  {
   "cell_type": "code",
   "execution_count": 13,
   "metadata": {},
   "outputs": [],
   "source": [
    "pam.set[\"verbose\"] = 0\n",
    "pam.set[\"pyVerbose\"] = 0"
   ]
  },
  {
   "cell_type": "markdown",
   "metadata": {},
   "source": [
    "Finally, we create the Python objects for the measured DSDs"
   ]
  },
  {
   "cell_type": "code",
   "execution_count": 14,
   "metadata": {},
   "outputs": [],
   "source": [
    "pam.df.addFullSpectra()"
   ]
  },
  {
   "cell_type": "markdown",
   "metadata": {},
   "source": [
    "which creates the `pam.df.dataFullSpec` dictionary containing empty arrays which need to be populated "
   ]
  },
  {
   "cell_type": "code",
   "execution_count": 15,
   "metadata": {},
   "outputs": [
    {
     "data": {
      "text/plain": [
       "['d_ds',\n",
       " 'n_ds',\n",
       " 'area_ds',\n",
       " 'canting',\n",
       " 'mass_ds',\n",
       " 'rho_ds',\n",
       " 'as_ratio',\n",
       " 'd_bound_ds']"
      ]
     },
     "execution_count": 15,
     "metadata": {},
     "output_type": "execute_result"
    }
   ],
   "source": [
    "pam.df.dataFullSpec.keys()"
   ]
  },
  {
   "cell_type": "markdown",
   "metadata": {},
   "source": [
    "We start with adding the in situ observations for `d_bound_ds` (size bin boundaries in m), `d_ds` (size bin center in m, used for scattering calculation), and `n_ds` (number concentration in 1/m$^3$). Note that the in situ data set contains a drop size distribution in 1/m$^4$ which is why we apply `np.diff(Dbound)`."
   ]
  },
  {
   "cell_type": "code",
   "execution_count": 16,
   "metadata": {},
   "outputs": [],
   "source": [
    "pam.df.dataFullSpec[\"d_bound_ds\"][:] = Dbound\n",
    "pam.df.dataFullSpec[\"d_ds\"][:] = Dmean\n",
    "pam.df.dataFullSpec[\"n_ds\"][:] = dsd[\n",
    "    np.newaxis, \n",
    "    np.newaxis,\n",
    "    :, \n",
    "    np.newaxis,\n",
    "    :,\n",
    "] * np.diff(Dbound)"
   ]
  },
  {
   "cell_type": "markdown",
   "metadata": {},
   "source": [
    "Note that the dimension of these arrays is"
   ]
  },
  {
   "cell_type": "code",
   "execution_count": 17,
   "metadata": {},
   "outputs": [
    {
     "data": {
      "text/plain": [
       "(1, 1, 109, 1, 93)"
      ]
     },
     "execution_count": 17,
     "metadata": {},
     "output_type": "execute_result"
    }
   ],
   "source": [
    "pam.df.dataFullSpec[\"n_ds\"].shape"
   ]
  },
  {
   "cell_type": "markdown",
   "metadata": {},
   "source": [
    "which is for x-dimension, y-dimension, height, hydrometeor type (in case there are more than one), and size bin. Therefore, `np.newaxis` needs to be used for the measured DSDs to allow broadcasting to the required shape. "
   ]
  },
  {
   "cell_type": "markdown",
   "metadata": {},
   "source": [
    "It is crucial to define also the other hydrometeor properties `rho_ds` (particle density in kg/m$^3$), `area_ds` (cross section area in m$^2$), `mass_ds` (particle mass in kg), and `as_ratio` (aspect ratio, oblate for values < 1). However, for liquid cloud and drizzle drops, the trivial relations for spheres can be used."
   ]
  },
  {
   "cell_type": "code",
   "execution_count": 18,
   "metadata": {},
   "outputs": [],
   "source": [
    "pam.df.dataFullSpec[\"rho_ds\"][:] = 1000.\n",
    "pam.df.dataFullSpec[\"area_ds\"][:] = (np.pi / 4. *\n",
    "                                     pam.df.dataFullSpec[\"d_ds\"][:]**2)\n",
    "pam.df.dataFullSpec[\"mass_ds\"][:] = (np.pi / 6. *\n",
    "                                     pam.df.dataFullSpec[\"rho_ds\"][:] *\n",
    "                                     pam.df.dataFullSpec[\"d_ds\"][:]**3)\n",
    "pam.df.dataFullSpec[\"as_ratio\"][:] = 1.0"
   ]
  },
  {
   "cell_type": "markdown",
   "metadata": {},
   "source": [
    "Finally, we can run PAMTRA for the intended frequencies to estimate the radar observables. It is recommended to check whether `pam.fortError == 0` after running PAMTRA to catch errors in the Fortran part which are not displayed in Jupyter as discussed above. "
   ]
  },
  {
   "cell_type": "code",
   "execution_count": 19,
   "metadata": {},
   "outputs": [
    {
     "name": "stdout",
     "output_type": "stream",
     "text": [
      "0\n"
     ]
    }
   ],
   "source": [
    "frequencies = [35.5]\n",
    "pam.runPamtra(frequencies)\n",
    "print(pam.fortError)"
   ]
  },
  {
   "cell_type": "markdown",
   "metadata": {},
   "source": [
    "Now, we can analyze the results which are stored in the `pam.r` dictionary."
   ]
  },
  {
   "cell_type": "code",
   "execution_count": 20,
   "metadata": {},
   "outputs": [
    {
     "data": {
      "text/plain": [
       "['psd_n',\n",
       " 'radar_edges',\n",
       " 'psd_d',\n",
       " 'pamtraVersion',\n",
       " 'radar_vel',\n",
       " 'radar_hgt',\n",
       " 'radar_slopes',\n",
       " 'radar_snr',\n",
       " 'radar_moments',\n",
       " 'radar_spectra',\n",
       " 'psd_deltad',\n",
       " 'pamtraHash',\n",
       " 'tb',\n",
       " 'Att_hydro',\n",
       " 'angles_deg',\n",
       " 'scatter_matrix',\n",
       " 'psd_mass',\n",
       " 'Att_atmo',\n",
       " 'extinct_matrix',\n",
       " 'nmlSettings',\n",
       " 'radar_quality',\n",
       " 'Ze',\n",
       " 'psd_area',\n",
       " 'kextatmo',\n",
       " 'emissivity',\n",
       " 'emis_vector']"
      ]
     },
     "execution_count": 20,
     "metadata": {},
     "output_type": "execute_result"
    }
   ],
   "source": [
    "pam.r.keys()"
   ]
  },
  {
   "cell_type": "markdown",
   "metadata": {},
   "source": [
    "For plotting, we extract the Doppler velocity bins `pam.r['radar_vel']`, the height layers `pam.p['hgt']`, the calculated radar Doppler spectrum `pam.r['radar_spectra']`, and radar reflectivity `pam.r['Ze']`."
   ]
  },
  {
   "cell_type": "code",
   "execution_count": 21,
   "metadata": {},
   "outputs": [],
   "source": [
    "pam_velocity = pam.r['radar_vel'].squeeze()\n",
    "pam_height = pam.p['hgt'].squeeze()\n",
    "pam_spectra = pam.r['radar_spectra'].squeeze()\n",
    "Ze = pam.r['Ze'].squeeze()"
   ]
  },
  {
   "cell_type": "markdown",
   "metadata": {},
   "source": [
    "For comparison, we compare this to the effective diameter `acmev_deff` (defined analogue to the effective radius) and the  measured DSD `acmev_dsd` in log$_{10}$  scale. We mask particle concentrations below 10$^{-5}$ 1/m$^{-4}$ for better plotting because these small concentrations are related to instrument noise."
   ]
  },
  {
   "cell_type": "code",
   "execution_count": 22,
   "metadata": {},
   "outputs": [
    {
     "name": "stderr",
     "output_type": "stream",
     "text": [
      "/work/local/lib/python2.7/site-packages/ipykernel_launcher.py:4: RuntimeWarning: divide by zero encountered in log10\n",
      "  after removing the cwd from sys.path.\n"
     ]
    }
   ],
   "source": [
    "acmev_deff = (np.nansum(dsd * Dmean**3, axis=1) /\n",
    "              np.nansum(dsd * Dmean**2, axis=1))\n",
    "acmev_height = acmeV['GPS_MSL_Alt'].values\n",
    "acmev_dsd = np.log10(dsd)\n",
    "acmev_dsd = np.ma.masked_array(acmev_dsd, acmev_dsd < 5)"
   ]
  },
  {
   "cell_type": "markdown",
   "metadata": {},
   "source": [
    "Create the plot shown in the paper"
   ]
  },
  {
   "cell_type": "code",
   "execution_count": 23,
   "metadata": {},
   "outputs": [
    {
     "data": {
      "image/png": "[encoded data removed]",
      "text/plain": [
       "<matplotlib.figure.Figure at 0x7f835b381150>"
      ]
     },
     "metadata": {
      "needs_background": "light"
     },
     "output_type": "display_data"
    }
   ],
   "source": [
    "fig, [ax1, ax2] = plt.subplots(ncols=2, figsize=(10, 8), sharey=True)\n",
    "\n",
    "pm = ax1.pcolormesh(Dmean, acmev_height, acmev_dsd, rasterized=True, vmin=-5)\n",
    "plt.colorbar(pm, label='Droplet concentration [m$^{-4}$]', ax=ax1)\n",
    "ax1.plot(acmev_deff, acmev_height, c='k', lw=3)\n",
    "\n",
    "ax1.set_xscale('log')\n",
    "ax1.set_title('%s UTC' % str(acmeV.datetime[0].values).split('.')[0])\n",
    "ax1.set_xlabel('Droplet size [m]\\neffective diamater (black) [m]')\n",
    "ax1.set_ylabel('Altitude [m]')\n",
    "ax1.set_xlim(Dmean.min(),1e-3)\n",
    "\n",
    "pm = ax2.pcolormesh(pam_velocity,\n",
    "                    pam_height,\n",
    "                    pam_spectra,\n",
    "                    vmax=-20,\n",
    "                    rasterized=True)\n",
    "plt.colorbar(pm, label='Spectral refelctivity [dB]', ax=ax2)\n",
    "\n",
    "ax2.set_xlim(-0.5, 2)\n",
    "ax2.set_xlabel('Doppler velocity [m s$-1$]')\n",
    "\n",
    "ax2t = ax2.twiny()\n",
    "ax2t.plot(Ze, pam_height, c='k', lw=3)\n",
    "ax2t.set_ylim(pam_height.min(), pam_height.max())\n",
    "ax2t.set_xlabel('Radar reflectivity factor (black) $Z_e$ [dBz]')\n",
    "\n",
    "fig.savefig('plot_fullbin-acmev-example.pdf')"
   ]
  },
  {
   "cell_type": "code",
   "execution_count": null,
   "metadata": {},
   "outputs": [],
   "source": []
  }
 ],
 "metadata": {
  "kernelspec": {
   "display_name": "Python 2",
   "language": "python",
   "name": "python2"
  },
  "language_info": {
   "codemirror_mode": {
    "name": "ipython",
    "version": 2
   },
   "file_extension": ".py",
   "mimetype": "text/x-python",
   "name": "python",
   "nbconvert_exporter": "python",
   "pygments_lexer": "ipython2",
   "version": "2.7.12"
  },
  "toc": {
   "base_numbering": 1,
   "nav_menu": {
    "height": "30px",
    "width": "252px"
   },
   "number_sections": true,
   "sideBar": true,
   "skip_h1_title": false,
   "title_cell": "Table of Contents",
   "title_sidebar": "Contents",
   "toc_cell": false,
   "toc_position": {},
   "toc_section_display": "block",
   "toc_window_display": false
  }
 },
 "nbformat": 4,
 "nbformat_minor": 1
}
